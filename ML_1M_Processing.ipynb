{
  "cells": [
    {
      "cell_type": "code",
      "execution_count": 1,
      "metadata": {
        "colab": {
          "base_uri": "https://localhost:8080/"
        },
        "id": "OPlUwwPwCB6Q",
        "outputId": "71edf718-d6dc-4940-89c1-088b9579540f"
      },
      "outputs": [
        {
          "output_type": "stream",
          "name": "stdout",
          "text": [
            "Mounted at /content/drive\n"
          ]
        }
      ],
      "source": [
        "from google.colab import drive\n",
        "drive.mount('/content/drive')"
      ]
    },
    {
      "cell_type": "code",
      "execution_count": 2,
      "metadata": {
        "id": "USRyBbGaCDMJ"
      },
      "outputs": [],
      "source": [
        "import pandas as pd\n",
        "from datetime import datetime\n",
        "import numpy as np\n",
        "from tqdm import tqdm"
      ]
    },
    {
      "cell_type": "code",
      "execution_count": 3,
      "metadata": {
        "id": "04Otl_E0CTZN"
      },
      "outputs": [],
      "source": [
        "users = pd.read_csv('/content/drive/MyDrive/ml-1m/users.dat', sep='::',engine='python',\n",
        "                        names=['userid', 'gender', 'age', 'occupation', 'zip'])\n",
        "\n",
        "ratings = pd.read_csv('/content/drive/MyDrive/ml-1m/ratings.dat', engine='python',\n",
        "                          sep='::', names=['userid', 'movieid', 'rating', 'timestamp'])\n",
        "\n",
        "movies = pd.read_csv('/content/drive/MyDrive/ml-1m/movies.dat', engine='python',\n",
        "                         sep='::', names=['movieid', 'title', 'genre'], encoding='latin-1', index_col=False)"
      ]
    },
    {
      "cell_type": "code",
      "source": [
        "movies['movieid_norm'] = np.arange(len(movies.movieid))\n",
        "ratings = ratings.merge(movies, how='left', left_on='movieid', right_on='movieid')"
      ],
      "metadata": {
        "id": "MVTAKxbSL_ER"
      },
      "execution_count": 4,
      "outputs": []
    },
    {
      "cell_type": "code",
      "source": [
        "ratings"
      ],
      "metadata": {
        "colab": {
          "base_uri": "https://localhost:8080/",
          "height": 423
        },
        "id": "UfDCre0h7y25",
        "outputId": "bd711d46-6cdf-4ae5-ec6c-a34783df606c"
      },
      "execution_count": 5,
      "outputs": [
        {
          "output_type": "execute_result",
          "data": {
            "text/plain": [
              "         userid  movieid  rating  timestamp  \\\n",
              "0             1     1193       5  978300760   \n",
              "1             1      661       3  978302109   \n",
              "2             1      914       3  978301968   \n",
              "3             1     3408       4  978300275   \n",
              "4             1     2355       5  978824291   \n",
              "...         ...      ...     ...        ...   \n",
              "1000204    6040     1091       1  956716541   \n",
              "1000205    6040     1094       5  956704887   \n",
              "1000206    6040      562       5  956704746   \n",
              "1000207    6040     1096       4  956715648   \n",
              "1000208    6040     1097       4  956715569   \n",
              "\n",
              "                                          title  \\\n",
              "0        One Flew Over the Cuckoo's Nest (1975)   \n",
              "1              James and the Giant Peach (1996)   \n",
              "2                           My Fair Lady (1964)   \n",
              "3                        Erin Brockovich (2000)   \n",
              "4                          Bug's Life, A (1998)   \n",
              "...                                         ...   \n",
              "1000204              Weekend at Bernie's (1989)   \n",
              "1000205                 Crying Game, The (1992)   \n",
              "1000206         Welcome to the Dollhouse (1995)   \n",
              "1000207                  Sophie's Choice (1982)   \n",
              "1000208       E.T. the Extra-Terrestrial (1982)   \n",
              "\n",
              "                                   genre  movieid_norm  \n",
              "0                                  Drama          1176  \n",
              "1           Animation|Children's|Musical           655  \n",
              "2                        Musical|Romance           902  \n",
              "3                                  Drama          3339  \n",
              "4            Animation|Children's|Comedy          2286  \n",
              "...                                  ...           ...  \n",
              "1000204                           Comedy          1075  \n",
              "1000205                Drama|Romance|War          1078  \n",
              "1000206                     Comedy|Drama           558  \n",
              "1000207                            Drama          1080  \n",
              "1000208  Children's|Drama|Fantasy|Sci-Fi          1081  \n",
              "\n",
              "[1000209 rows x 7 columns]"
            ],
            "text/html": [
              "\n",
              "  <div id=\"df-03d47937-f14e-4304-841b-dd2e562291fa\" class=\"colab-df-container\">\n",
              "    <div>\n",
              "<style scoped>\n",
              "    .dataframe tbody tr th:only-of-type {\n",
              "        vertical-align: middle;\n",
              "    }\n",
              "\n",
              "    .dataframe tbody tr th {\n",
              "        vertical-align: top;\n",
              "    }\n",
              "\n",
              "    .dataframe thead th {\n",
              "        text-align: right;\n",
              "    }\n",
              "</style>\n",
              "<table border=\"1\" class=\"dataframe\">\n",
              "  <thead>\n",
              "    <tr style=\"text-align: right;\">\n",
              "      <th></th>\n",
              "      <th>userid</th>\n",
              "      <th>movieid</th>\n",
              "      <th>rating</th>\n",
              "      <th>timestamp</th>\n",
              "      <th>title</th>\n",
              "      <th>genre</th>\n",
              "      <th>movieid_norm</th>\n",
              "    </tr>\n",
              "  </thead>\n",
              "  <tbody>\n",
              "    <tr>\n",
              "      <th>0</th>\n",
              "      <td>1</td>\n",
              "      <td>1193</td>\n",
              "      <td>5</td>\n",
              "      <td>978300760</td>\n",
              "      <td>One Flew Over the Cuckoo's Nest (1975)</td>\n",
              "      <td>Drama</td>\n",
              "      <td>1176</td>\n",
              "    </tr>\n",
              "    <tr>\n",
              "      <th>1</th>\n",
              "      <td>1</td>\n",
              "      <td>661</td>\n",
              "      <td>3</td>\n",
              "      <td>978302109</td>\n",
              "      <td>James and the Giant Peach (1996)</td>\n",
              "      <td>Animation|Children's|Musical</td>\n",
              "      <td>655</td>\n",
              "    </tr>\n",
              "    <tr>\n",
              "      <th>2</th>\n",
              "      <td>1</td>\n",
              "      <td>914</td>\n",
              "      <td>3</td>\n",
              "      <td>978301968</td>\n",
              "      <td>My Fair Lady (1964)</td>\n",
              "      <td>Musical|Romance</td>\n",
              "      <td>902</td>\n",
              "    </tr>\n",
              "    <tr>\n",
              "      <th>3</th>\n",
              "      <td>1</td>\n",
              "      <td>3408</td>\n",
              "      <td>4</td>\n",
              "      <td>978300275</td>\n",
              "      <td>Erin Brockovich (2000)</td>\n",
              "      <td>Drama</td>\n",
              "      <td>3339</td>\n",
              "    </tr>\n",
              "    <tr>\n",
              "      <th>4</th>\n",
              "      <td>1</td>\n",
              "      <td>2355</td>\n",
              "      <td>5</td>\n",
              "      <td>978824291</td>\n",
              "      <td>Bug's Life, A (1998)</td>\n",
              "      <td>Animation|Children's|Comedy</td>\n",
              "      <td>2286</td>\n",
              "    </tr>\n",
              "    <tr>\n",
              "      <th>...</th>\n",
              "      <td>...</td>\n",
              "      <td>...</td>\n",
              "      <td>...</td>\n",
              "      <td>...</td>\n",
              "      <td>...</td>\n",
              "      <td>...</td>\n",
              "      <td>...</td>\n",
              "    </tr>\n",
              "    <tr>\n",
              "      <th>1000204</th>\n",
              "      <td>6040</td>\n",
              "      <td>1091</td>\n",
              "      <td>1</td>\n",
              "      <td>956716541</td>\n",
              "      <td>Weekend at Bernie's (1989)</td>\n",
              "      <td>Comedy</td>\n",
              "      <td>1075</td>\n",
              "    </tr>\n",
              "    <tr>\n",
              "      <th>1000205</th>\n",
              "      <td>6040</td>\n",
              "      <td>1094</td>\n",
              "      <td>5</td>\n",
              "      <td>956704887</td>\n",
              "      <td>Crying Game, The (1992)</td>\n",
              "      <td>Drama|Romance|War</td>\n",
              "      <td>1078</td>\n",
              "    </tr>\n",
              "    <tr>\n",
              "      <th>1000206</th>\n",
              "      <td>6040</td>\n",
              "      <td>562</td>\n",
              "      <td>5</td>\n",
              "      <td>956704746</td>\n",
              "      <td>Welcome to the Dollhouse (1995)</td>\n",
              "      <td>Comedy|Drama</td>\n",
              "      <td>558</td>\n",
              "    </tr>\n",
              "    <tr>\n",
              "      <th>1000207</th>\n",
              "      <td>6040</td>\n",
              "      <td>1096</td>\n",
              "      <td>4</td>\n",
              "      <td>956715648</td>\n",
              "      <td>Sophie's Choice (1982)</td>\n",
              "      <td>Drama</td>\n",
              "      <td>1080</td>\n",
              "    </tr>\n",
              "    <tr>\n",
              "      <th>1000208</th>\n",
              "      <td>6040</td>\n",
              "      <td>1097</td>\n",
              "      <td>4</td>\n",
              "      <td>956715569</td>\n",
              "      <td>E.T. the Extra-Terrestrial (1982)</td>\n",
              "      <td>Children's|Drama|Fantasy|Sci-Fi</td>\n",
              "      <td>1081</td>\n",
              "    </tr>\n",
              "  </tbody>\n",
              "</table>\n",
              "<p>1000209 rows × 7 columns</p>\n",
              "</div>\n",
              "    <div class=\"colab-df-buttons\">\n",
              "\n",
              "  <div class=\"colab-df-container\">\n",
              "    <button class=\"colab-df-convert\" onclick=\"convertToInteractive('df-03d47937-f14e-4304-841b-dd2e562291fa')\"\n",
              "            title=\"Convert this dataframe to an interactive table.\"\n",
              "            style=\"display:none;\">\n",
              "\n",
              "  <svg xmlns=\"http://www.w3.org/2000/svg\" height=\"24px\" viewBox=\"0 -960 960 960\">\n",
              "    <path d=\"M120-120v-720h720v720H120Zm60-500h600v-160H180v160Zm220 220h160v-160H400v160Zm0 220h160v-160H400v160ZM180-400h160v-160H180v160Zm440 0h160v-160H620v160ZM180-180h160v-160H180v160Zm440 0h160v-160H620v160Z\"/>\n",
              "  </svg>\n",
              "    </button>\n",
              "\n",
              "  <style>\n",
              "    .colab-df-container {\n",
              "      display:flex;\n",
              "      gap: 12px;\n",
              "    }\n",
              "\n",
              "    .colab-df-convert {\n",
              "      background-color: #E8F0FE;\n",
              "      border: none;\n",
              "      border-radius: 50%;\n",
              "      cursor: pointer;\n",
              "      display: none;\n",
              "      fill: #1967D2;\n",
              "      height: 32px;\n",
              "      padding: 0 0 0 0;\n",
              "      width: 32px;\n",
              "    }\n",
              "\n",
              "    .colab-df-convert:hover {\n",
              "      background-color: #E2EBFA;\n",
              "      box-shadow: 0px 1px 2px rgba(60, 64, 67, 0.3), 0px 1px 3px 1px rgba(60, 64, 67, 0.15);\n",
              "      fill: #174EA6;\n",
              "    }\n",
              "\n",
              "    .colab-df-buttons div {\n",
              "      margin-bottom: 4px;\n",
              "    }\n",
              "\n",
              "    [theme=dark] .colab-df-convert {\n",
              "      background-color: #3B4455;\n",
              "      fill: #D2E3FC;\n",
              "    }\n",
              "\n",
              "    [theme=dark] .colab-df-convert:hover {\n",
              "      background-color: #434B5C;\n",
              "      box-shadow: 0px 1px 3px 1px rgba(0, 0, 0, 0.15);\n",
              "      filter: drop-shadow(0px 1px 2px rgba(0, 0, 0, 0.3));\n",
              "      fill: #FFFFFF;\n",
              "    }\n",
              "  </style>\n",
              "\n",
              "    <script>\n",
              "      const buttonEl =\n",
              "        document.querySelector('#df-03d47937-f14e-4304-841b-dd2e562291fa button.colab-df-convert');\n",
              "      buttonEl.style.display =\n",
              "        google.colab.kernel.accessAllowed ? 'block' : 'none';\n",
              "\n",
              "      async function convertToInteractive(key) {\n",
              "        const element = document.querySelector('#df-03d47937-f14e-4304-841b-dd2e562291fa');\n",
              "        const dataTable =\n",
              "          await google.colab.kernel.invokeFunction('convertToInteractive',\n",
              "                                                    [key], {});\n",
              "        if (!dataTable) return;\n",
              "\n",
              "        const docLinkHtml = 'Like what you see? Visit the ' +\n",
              "          '<a target=\"_blank\" href=https://colab.research.google.com/notebooks/data_table.ipynb>data table notebook</a>'\n",
              "          + ' to learn more about interactive tables.';\n",
              "        element.innerHTML = '';\n",
              "        dataTable['output_type'] = 'display_data';\n",
              "        await google.colab.output.renderOutput(dataTable, element);\n",
              "        const docLink = document.createElement('div');\n",
              "        docLink.innerHTML = docLinkHtml;\n",
              "        element.appendChild(docLink);\n",
              "      }\n",
              "    </script>\n",
              "  </div>\n",
              "\n",
              "\n",
              "<div id=\"df-dd1ee218-66f8-4868-9e0e-925cd8e23adc\">\n",
              "  <button class=\"colab-df-quickchart\" onclick=\"quickchart('df-dd1ee218-66f8-4868-9e0e-925cd8e23adc')\"\n",
              "            title=\"Suggest charts\"\n",
              "            style=\"display:none;\">\n",
              "\n",
              "<svg xmlns=\"http://www.w3.org/2000/svg\" height=\"24px\"viewBox=\"0 0 24 24\"\n",
              "     width=\"24px\">\n",
              "    <g>\n",
              "        <path d=\"M19 3H5c-1.1 0-2 .9-2 2v14c0 1.1.9 2 2 2h14c1.1 0 2-.9 2-2V5c0-1.1-.9-2-2-2zM9 17H7v-7h2v7zm4 0h-2V7h2v10zm4 0h-2v-4h2v4z\"/>\n",
              "    </g>\n",
              "</svg>\n",
              "  </button>\n",
              "\n",
              "<style>\n",
              "  .colab-df-quickchart {\n",
              "      --bg-color: #E8F0FE;\n",
              "      --fill-color: #1967D2;\n",
              "      --hover-bg-color: #E2EBFA;\n",
              "      --hover-fill-color: #174EA6;\n",
              "      --disabled-fill-color: #AAA;\n",
              "      --disabled-bg-color: #DDD;\n",
              "  }\n",
              "\n",
              "  [theme=dark] .colab-df-quickchart {\n",
              "      --bg-color: #3B4455;\n",
              "      --fill-color: #D2E3FC;\n",
              "      --hover-bg-color: #434B5C;\n",
              "      --hover-fill-color: #FFFFFF;\n",
              "      --disabled-bg-color: #3B4455;\n",
              "      --disabled-fill-color: #666;\n",
              "  }\n",
              "\n",
              "  .colab-df-quickchart {\n",
              "    background-color: var(--bg-color);\n",
              "    border: none;\n",
              "    border-radius: 50%;\n",
              "    cursor: pointer;\n",
              "    display: none;\n",
              "    fill: var(--fill-color);\n",
              "    height: 32px;\n",
              "    padding: 0;\n",
              "    width: 32px;\n",
              "  }\n",
              "\n",
              "  .colab-df-quickchart:hover {\n",
              "    background-color: var(--hover-bg-color);\n",
              "    box-shadow: 0 1px 2px rgba(60, 64, 67, 0.3), 0 1px 3px 1px rgba(60, 64, 67, 0.15);\n",
              "    fill: var(--button-hover-fill-color);\n",
              "  }\n",
              "\n",
              "  .colab-df-quickchart-complete:disabled,\n",
              "  .colab-df-quickchart-complete:disabled:hover {\n",
              "    background-color: var(--disabled-bg-color);\n",
              "    fill: var(--disabled-fill-color);\n",
              "    box-shadow: none;\n",
              "  }\n",
              "\n",
              "  .colab-df-spinner {\n",
              "    border: 2px solid var(--fill-color);\n",
              "    border-color: transparent;\n",
              "    border-bottom-color: var(--fill-color);\n",
              "    animation:\n",
              "      spin 1s steps(1) infinite;\n",
              "  }\n",
              "\n",
              "  @keyframes spin {\n",
              "    0% {\n",
              "      border-color: transparent;\n",
              "      border-bottom-color: var(--fill-color);\n",
              "      border-left-color: var(--fill-color);\n",
              "    }\n",
              "    20% {\n",
              "      border-color: transparent;\n",
              "      border-left-color: var(--fill-color);\n",
              "      border-top-color: var(--fill-color);\n",
              "    }\n",
              "    30% {\n",
              "      border-color: transparent;\n",
              "      border-left-color: var(--fill-color);\n",
              "      border-top-color: var(--fill-color);\n",
              "      border-right-color: var(--fill-color);\n",
              "    }\n",
              "    40% {\n",
              "      border-color: transparent;\n",
              "      border-right-color: var(--fill-color);\n",
              "      border-top-color: var(--fill-color);\n",
              "    }\n",
              "    60% {\n",
              "      border-color: transparent;\n",
              "      border-right-color: var(--fill-color);\n",
              "    }\n",
              "    80% {\n",
              "      border-color: transparent;\n",
              "      border-right-color: var(--fill-color);\n",
              "      border-bottom-color: var(--fill-color);\n",
              "    }\n",
              "    90% {\n",
              "      border-color: transparent;\n",
              "      border-bottom-color: var(--fill-color);\n",
              "    }\n",
              "  }\n",
              "</style>\n",
              "\n",
              "  <script>\n",
              "    async function quickchart(key) {\n",
              "      const quickchartButtonEl =\n",
              "        document.querySelector('#' + key + ' button');\n",
              "      quickchartButtonEl.disabled = true;  // To prevent multiple clicks.\n",
              "      quickchartButtonEl.classList.add('colab-df-spinner');\n",
              "      try {\n",
              "        const charts = await google.colab.kernel.invokeFunction(\n",
              "            'suggestCharts', [key], {});\n",
              "      } catch (error) {\n",
              "        console.error('Error during call to suggestCharts:', error);\n",
              "      }\n",
              "      quickchartButtonEl.classList.remove('colab-df-spinner');\n",
              "      quickchartButtonEl.classList.add('colab-df-quickchart-complete');\n",
              "    }\n",
              "    (() => {\n",
              "      let quickchartButtonEl =\n",
              "        document.querySelector('#df-dd1ee218-66f8-4868-9e0e-925cd8e23adc button');\n",
              "      quickchartButtonEl.style.display =\n",
              "        google.colab.kernel.accessAllowed ? 'block' : 'none';\n",
              "    })();\n",
              "  </script>\n",
              "</div>\n",
              "\n",
              "  <div id=\"id_f9395eed-66a4-44f7-b928-4dbdc56ec30a\">\n",
              "    <style>\n",
              "      .colab-df-generate {\n",
              "        background-color: #E8F0FE;\n",
              "        border: none;\n",
              "        border-radius: 50%;\n",
              "        cursor: pointer;\n",
              "        display: none;\n",
              "        fill: #1967D2;\n",
              "        height: 32px;\n",
              "        padding: 0 0 0 0;\n",
              "        width: 32px;\n",
              "      }\n",
              "\n",
              "      .colab-df-generate:hover {\n",
              "        background-color: #E2EBFA;\n",
              "        box-shadow: 0px 1px 2px rgba(60, 64, 67, 0.3), 0px 1px 3px 1px rgba(60, 64, 67, 0.15);\n",
              "        fill: #174EA6;\n",
              "      }\n",
              "\n",
              "      [theme=dark] .colab-df-generate {\n",
              "        background-color: #3B4455;\n",
              "        fill: #D2E3FC;\n",
              "      }\n",
              "\n",
              "      [theme=dark] .colab-df-generate:hover {\n",
              "        background-color: #434B5C;\n",
              "        box-shadow: 0px 1px 3px 1px rgba(0, 0, 0, 0.15);\n",
              "        filter: drop-shadow(0px 1px 2px rgba(0, 0, 0, 0.3));\n",
              "        fill: #FFFFFF;\n",
              "      }\n",
              "    </style>\n",
              "    <button class=\"colab-df-generate\" onclick=\"generateWithVariable('ratings')\"\n",
              "            title=\"Generate code using this dataframe.\"\n",
              "            style=\"display:none;\">\n",
              "\n",
              "  <svg xmlns=\"http://www.w3.org/2000/svg\" height=\"24px\"viewBox=\"0 0 24 24\"\n",
              "       width=\"24px\">\n",
              "    <path d=\"M7,19H8.4L18.45,9,17,7.55,7,17.6ZM5,21V16.75L18.45,3.32a2,2,0,0,1,2.83,0l1.4,1.43a1.91,1.91,0,0,1,.58,1.4,1.91,1.91,0,0,1-.58,1.4L9.25,21ZM18.45,9,17,7.55Zm-12,3A5.31,5.31,0,0,0,4.9,8.1,5.31,5.31,0,0,0,1,6.5,5.31,5.31,0,0,0,4.9,4.9,5.31,5.31,0,0,0,6.5,1,5.31,5.31,0,0,0,8.1,4.9,5.31,5.31,0,0,0,12,6.5,5.46,5.46,0,0,0,6.5,12Z\"/>\n",
              "  </svg>\n",
              "    </button>\n",
              "    <script>\n",
              "      (() => {\n",
              "      const buttonEl =\n",
              "        document.querySelector('#id_f9395eed-66a4-44f7-b928-4dbdc56ec30a button.colab-df-generate');\n",
              "      buttonEl.style.display =\n",
              "        google.colab.kernel.accessAllowed ? 'block' : 'none';\n",
              "\n",
              "      buttonEl.onclick = () => {\n",
              "        google.colab.notebook.generateWithVariable('ratings');\n",
              "      }\n",
              "      })();\n",
              "    </script>\n",
              "  </div>\n",
              "\n",
              "    </div>\n",
              "  </div>\n"
            ]
          },
          "metadata": {},
          "execution_count": 5
        }
      ]
    },
    {
      "cell_type": "code",
      "source": [
        "len(ratings.movieid_norm.unique())"
      ],
      "metadata": {
        "colab": {
          "base_uri": "https://localhost:8080/"
        },
        "id": "F6Gu-QHSPJ-F",
        "outputId": "7a3a8a30-f0a9-4ef2-8585-5ba61ab05e68"
      },
      "execution_count": 6,
      "outputs": [
        {
          "output_type": "execute_result",
          "data": {
            "text/plain": [
              "3706"
            ]
          },
          "metadata": {},
          "execution_count": 6
        }
      ]
    },
    {
      "cell_type": "code",
      "execution_count": 7,
      "metadata": {
        "id": "yp__8KazC_kU"
      },
      "outputs": [],
      "source": [
        "# ratings['rating_date'] = ratings.timestamp.apply(\n",
        "#     lambda x: datetime.fromtimestamp(x)\n",
        "# )"
      ]
    },
    {
      "cell_type": "code",
      "execution_count": 8,
      "metadata": {
        "id": "ATgrW6B-DfXz"
      },
      "outputs": [],
      "source": [
        "ratings.userid = ratings.userid - 1"
      ]
    },
    {
      "cell_type": "code",
      "execution_count": 9,
      "metadata": {
        "id": "6BzzyC_nDgdr"
      },
      "outputs": [],
      "source": [
        "mintime = min(ratings.timestamp)"
      ]
    },
    {
      "cell_type": "code",
      "execution_count": 10,
      "metadata": {
        "id": "MCulnLdfDwKU"
      },
      "outputs": [],
      "source": [
        "maxtime = max(ratings.timestamp)"
      ]
    },
    {
      "cell_type": "code",
      "source": [
        "movies_list = [movie for movie in ratings.movieid.unique() if len(ratings[ratings.movieid == movie].userid.unique()) >= 10]"
      ],
      "metadata": {
        "id": "bcQhdwFaJgNw"
      },
      "execution_count": 11,
      "outputs": []
    },
    {
      "cell_type": "code",
      "source": [
        "len(movies_list)"
      ],
      "metadata": {
        "colab": {
          "base_uri": "https://localhost:8080/"
        },
        "id": "xucMjUhjPOYJ",
        "outputId": "8ed67738-208e-4248-9b28-8c2ecdcf8cbc"
      },
      "execution_count": 12,
      "outputs": [
        {
          "output_type": "execute_result",
          "data": {
            "text/plain": [
              "3260"
            ]
          },
          "metadata": {},
          "execution_count": 12
        }
      ]
    },
    {
      "cell_type": "code",
      "source": [
        "ratings['choose'] = ratings.movieid.apply(\n",
        "    lambda x: 1 if x in movies_list else 0\n",
        ")"
      ],
      "metadata": {
        "id": "gnWjlFgyJiHi"
      },
      "execution_count": 13,
      "outputs": []
    },
    {
      "cell_type": "code",
      "source": [
        "cnt = 0\n",
        "for movie in ratings.movieid.unique():\n",
        "    if movie in movies_list:\n",
        "        ratings.loc[ratings.movieid == movie, 'movieid_norm'] = cnt\n",
        "        cnt += 1\n",
        "    else:\n",
        "        ratings.loc[ratings.movieid == movie, 'movieid_norm'] = -1\n"
      ],
      "metadata": {
        "id": "NQyGQmuDM1rQ"
      },
      "execution_count": 14,
      "outputs": []
    },
    {
      "cell_type": "code",
      "execution_count": 15,
      "metadata": {
        "colab": {
          "base_uri": "https://localhost:8080/"
        },
        "id": "ovLVi2fcDyws",
        "outputId": "323d7cc1-59ed-42b2-f549-2f1a6d85ad1e"
      },
      "outputs": [
        {
          "output_type": "stream",
          "name": "stderr",
          "text": [
            "100%|██████████| 6040/6040 [00:41<00:00, 146.55it/s]\n"
          ]
        }
      ],
      "source": [
        "users_list = np.array(ratings.userid.unique())\n",
        "# users_list = [user for user in ratings.userid.unique() if len(ratings[ratings.userid == user].movieid) >= 10]\n",
        "\n",
        "with open('user_item.txt', 'w') as f:\n",
        "  for user in tqdm(users_list):\n",
        "    movie_list = ratings[(ratings.userid == user) & (ratings.movieid_norm > 0) & (ratings.rating >= 3)].movieid_norm.unique()\n",
        "    for movie in movie_list:\n",
        "      f.write(f'{user}\\t{movie}\\n')\n"
      ]
    },
    {
      "cell_type": "code",
      "execution_count": 16,
      "metadata": {
        "id": "aHKVXA3fE5th"
      },
      "outputs": [],
      "source": [
        "ratings['timestamp_norm'] = ratings.timestamp.apply(\n",
        "    lambda x: x - mintime\n",
        ")"
      ]
    },
    {
      "cell_type": "code",
      "execution_count": 17,
      "metadata": {
        "id": "4jYBw-txGKVH"
      },
      "outputs": [],
      "source": [
        "month_time = 30 * 24 * 60 * 60\n",
        "week_time = 7 * 24 * 60 * 60\n",
        "three_day = 3 * 24 * 60 * 60\n",
        "one_day = 24 * 60 * 60\n",
        "h_hour = 8 * 60 * 60\n",
        "a_hour = 60 * 60"
      ]
    },
    {
      "cell_type": "code",
      "execution_count": 18,
      "metadata": {
        "id": "4-2-7PttJ5Bf"
      },
      "outputs": [],
      "source": [
        "ratings['month'] = ratings.timestamp_norm.apply(\n",
        "    lambda x: int(x/month_time) + 1\n",
        ")"
      ]
    },
    {
      "cell_type": "code",
      "execution_count": 19,
      "metadata": {
        "id": "KU6I1aYKZk6S"
      },
      "outputs": [],
      "source": [
        "ratings['week'] = ratings.timestamp_norm.apply(\n",
        "    lambda x: int(x/week_time) + 1\n",
        ")"
      ]
    },
    {
      "cell_type": "code",
      "execution_count": 20,
      "metadata": {
        "id": "6Ov6cNRbeAnA"
      },
      "outputs": [],
      "source": [
        "ratings['three_days'] = ratings.timestamp_norm.apply(\n",
        "    lambda x: int(x/three_day) + 1\n",
        ")"
      ]
    },
    {
      "cell_type": "code",
      "execution_count": 21,
      "metadata": {
        "id": "99-OZputfEte"
      },
      "outputs": [],
      "source": [
        "ratings['one_day'] = ratings.timestamp_norm.apply(\n",
        "    lambda x: int(x/one_day) + 1\n",
        ")"
      ]
    },
    {
      "cell_type": "code",
      "source": [
        "ratings['h_hour'] = ratings.timestamp_norm.apply(\n",
        "    lambda x: int(x/h_hour) + 1\n",
        ")"
      ],
      "metadata": {
        "id": "4HE0EhRBkfDJ"
      },
      "execution_count": 22,
      "outputs": []
    },
    {
      "cell_type": "code",
      "source": [
        "ratings['a_hour'] = ratings.timestamp_norm.apply(\n",
        "    lambda x: int(x/a_hour) + 1\n",
        ")"
      ],
      "metadata": {
        "id": "qnhGXk0nGlbW"
      },
      "execution_count": 23,
      "outputs": []
    },
    {
      "cell_type": "code",
      "execution_count": 26,
      "metadata": {
        "colab": {
          "base_uri": "https://localhost:8080/"
        },
        "id": "Okv_xxU8Ksss",
        "outputId": "607f4a47-928a-4cb7-894e-6b9621c72c28"
      },
      "outputs": [
        {
          "output_type": "stream",
          "name": "stderr",
          "text": [
            "100%|██████████| 6040/6040 [03:45<00:00, 26.80it/s]\n"
          ]
        }
      ],
      "source": [
        "import random\n",
        "bundle_dict = {}\n",
        "users_list = np.array(ratings.userid.unique())\n",
        "random.seed(2024)\n",
        "\n",
        "with open('/content/drive/MyDrive/ml-1m/bundle_item.txt', 'w') as f2, open('/content/drive/MyDrive/ml-1m/user_bundle_train.txt', 'w') as f3, open('/content/drive/MyDrive/ml-1m/user_bundle_tune.txt', 'w') as f4, open('/content/drive/MyDrive/ml-1m/user_bundle_test.txt', 'w') as f5:\n",
        "  for user in tqdm(users_list):\n",
        "    bundles = []\n",
        "    for one_day in ratings[ratings.userid == user].one_day.unique():\n",
        "      bundle = ratings[(ratings.userid == user) & (ratings.one_day == one_day) & (ratings.movieid_norm > 0) & (ratings.rating >= 3)].movieid_norm.unique()\n",
        "      bundle.sort()\n",
        "      bundle = tuple(bundle)\n",
        "\n",
        "      if len(bundle) > 1:\n",
        "        if bundle not in bundle_dict:\n",
        "          bundle_dict[bundle] = len(bundle_dict)\n",
        "          for item in bundle:\n",
        "            f2.write(f'{bundle_dict[bundle]}\\t{item}\\n')\n",
        "        bundles.append(bundle)\n",
        "\n",
        "    random.shuffle(bundles)\n",
        "    if len(bundles) >= 10:\n",
        "      for bundle in bundles[:int(0.6*len(bundles))]:\n",
        "      # for bundle in bundles[:-2]:\n",
        "        f3.write(f'{user}\\t{bundle_dict[bundle]}\\n')\n",
        "\n",
        "      for bundle in bundles[int(0.6*len(bundles)):int(0.8*len(bundles))]:\n",
        "        f4.write(f'{user}\\t{bundle_dict[bundle]}\\n')\n",
        "\n",
        "      for bundle in bundles[int(0.8*len(bundles)):]:\n",
        "        f5.write(f'{user}\\t{bundle_dict[bundle]}\\n')\n"
      ]
    },
    {
      "cell_type": "code",
      "execution_count": 29,
      "metadata": {
        "id": "4Kz6CXlNa3ez",
        "colab": {
          "base_uri": "https://localhost:8080/"
        },
        "outputId": "a14305e9-d94f-479d-c2c1-64586f7cfdf0"
      },
      "outputs": [
        {
          "output_type": "execute_result",
          "data": {
            "text/plain": [
              "15913"
            ]
          },
          "metadata": {},
          "execution_count": 29
        }
      ],
      "source": [
        "len(bundle_dict)"
      ]
    },
    {
      "cell_type": "code",
      "execution_count": null,
      "metadata": {
        "colab": {
          "base_uri": "https://localhost:8080/"
        },
        "id": "Nfj_xNHYNDNS",
        "outputId": "e2ed7823-6652-4ddb-9739-ad8f0a0d009a"
      },
      "outputs": [
        {
          "output_type": "stream",
          "name": "stderr",
          "text": [
            "100%|██████████| 3883/3883 [00:02<00:00, 1420.13it/s]\n"
          ]
        }
      ],
      "source": [
        "norm = movies.movieid_norm.unique()\n",
        "with open('/content/drive/MyDrive/ml-1m/movieid_lookup.txt', 'w') as f:\n",
        "  for id in tqdm(norm):\n",
        "    f.write(f'{id}\\t{movies[movies.movieid_norm==id].movieid}\\n')\n"
      ]
    },
    {
      "cell_type": "code",
      "source": [],
      "metadata": {
        "id": "9L3XUypcJG8O"
      },
      "execution_count": null,
      "outputs": []
    }
  ],
  "metadata": {
    "colab": {
      "provenance": []
    },
    "kernelspec": {
      "display_name": "Python 3",
      "name": "python3"
    },
    "language_info": {
      "name": "python"
    }
  },
  "nbformat": 4,
  "nbformat_minor": 0
}
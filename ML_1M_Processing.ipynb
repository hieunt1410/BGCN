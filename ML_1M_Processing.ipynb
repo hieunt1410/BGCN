{
  "cells": [
    {
      "cell_type": "code",
      "execution_count": 1,
      "metadata": {
        "colab": {
          "base_uri": "https://localhost:8080/"
        },
        "id": "OPlUwwPwCB6Q",
        "outputId": "e5b75937-ed7d-4af5-a904-17a5ae816fab"
      },
      "outputs": [
        {
          "output_type": "stream",
          "name": "stdout",
          "text": [
            "Mounted at /content/drive\n"
          ]
        }
      ],
      "source": [
        "from google.colab import drive\n",
        "drive.mount('/content/drive')"
      ]
    },
    {
      "cell_type": "code",
      "execution_count": 2,
      "metadata": {
        "id": "USRyBbGaCDMJ"
      },
      "outputs": [],
      "source": [
        "import pandas as pd\n",
        "from datetime import datetime\n",
        "import numpy as np\n",
        "from tqdm import tqdm\n",
        "import seaborn as sns\n",
        "import matplotlib.pyplot as plt"
      ]
    },
    {
      "cell_type": "code",
      "execution_count": 3,
      "metadata": {
        "id": "04Otl_E0CTZN"
      },
      "outputs": [],
      "source": [
        "users = pd.read_csv('/content/drive/MyDrive/ml-1m/users.dat', sep='::',engine='python',\n",
        "                        names=['userid', 'gender', 'age', 'occupation', 'zip'])\n",
        "\n",
        "ratings = pd.read_csv('/content/drive/MyDrive/ml-1m/ratings.dat', engine='python',\n",
        "                          sep='::', names=['userid', 'movieid', 'rating', 'timestamp'])\n",
        "\n",
        "movies = pd.read_csv('/content/drive/MyDrive/ml-1m/movies.dat', engine='python',\n",
        "                         sep='::', names=['movieid', 'title', 'genre'], encoding='latin-1', index_col=False)"
      ]
    },
    {
      "cell_type": "code",
      "execution_count": 4,
      "metadata": {
        "id": "MVTAKxbSL_ER"
      },
      "outputs": [],
      "source": [
        "movies['movieid_norm'] = np.arange(len(movies.movieid))\n",
        "ratings = ratings.merge(movies, how='left', left_on='movieid', right_on='movieid')"
      ]
    },
    {
      "cell_type": "code",
      "execution_count": 5,
      "metadata": {
        "id": "yp__8KazC_kU"
      },
      "outputs": [],
      "source": [
        "# ratings['rating_date'] = ratings.timestamp.apply(\n",
        "#     lambda x: datetime.fromtimestamp(x)\n",
        "# )"
      ]
    },
    {
      "cell_type": "code",
      "execution_count": 6,
      "metadata": {
        "id": "ATgrW6B-DfXz"
      },
      "outputs": [],
      "source": [
        "# ratings.userid = ratings.userid - 1"
      ]
    },
    {
      "cell_type": "code",
      "execution_count": 7,
      "metadata": {
        "id": "6BzzyC_nDgdr"
      },
      "outputs": [],
      "source": [
        "mintime = min(ratings.timestamp)"
      ]
    },
    {
      "cell_type": "code",
      "execution_count": 8,
      "metadata": {
        "id": "MCulnLdfDwKU"
      },
      "outputs": [],
      "source": [
        "maxtime = max(ratings.timestamp)"
      ]
    },
    {
      "cell_type": "code",
      "execution_count": 9,
      "metadata": {
        "id": "bcQhdwFaJgNw"
      },
      "outputs": [],
      "source": [
        "movies_list = [movie for movie in ratings.movieid.unique() if len(ratings[ratings.movieid == movie].userid.unique()) >= 10]"
      ]
    },
    {
      "cell_type": "code",
      "execution_count": 10,
      "metadata": {
        "colab": {
          "base_uri": "https://localhost:8080/"
        },
        "id": "xucMjUhjPOYJ",
        "outputId": "518c9027-2867-452f-c293-d3cfab240d3c"
      },
      "outputs": [
        {
          "output_type": "execute_result",
          "data": {
            "text/plain": [
              "3260"
            ]
          },
          "metadata": {},
          "execution_count": 10
        }
      ],
      "source": [
        "len(movies_list)"
      ]
    },
    {
      "cell_type": "code",
      "execution_count": 11,
      "metadata": {
        "id": "gnWjlFgyJiHi"
      },
      "outputs": [],
      "source": [
        "ratings['choose'] = ratings.movieid.apply(\n",
        "    lambda x: 1 if x in movies_list else 0\n",
        ")"
      ]
    },
    {
      "cell_type": "code",
      "execution_count": 12,
      "metadata": {
        "id": "NQyGQmuDM1rQ"
      },
      "outputs": [],
      "source": [
        "cnt = 0\n",
        "for movie in ratings.movieid.unique():\n",
        "    if movie in movies_list:\n",
        "        ratings.loc[ratings.movieid == movie, 'movieid_norm'] = cnt\n",
        "        cnt += 1\n",
        "    else:\n",
        "        ratings.loc[ratings.movieid == movie, 'movieid_norm'] = -1\n"
      ]
    },
    {
      "cell_type": "code",
      "execution_count": 13,
      "metadata": {
        "colab": {
          "base_uri": "https://localhost:8080/"
        },
        "id": "ovLVi2fcDyws",
        "outputId": "a3b122e6-587a-4a0d-f293-443ea33c114a"
      },
      "outputs": [
        {
          "output_type": "stream",
          "name": "stderr",
          "text": [
            "100%|██████████| 6040/6040 [00:40<00:00, 147.35it/s]\n"
          ]
        }
      ],
      "source": [
        "# users_list = np.array(ratings.userid.unique())\n",
        "users_list = [user for user in ratings.userid.unique() if len(ratings[ratings.userid == user].movieid) >= 20]\n",
        "ui = {}\n",
        "\n",
        "with open('user_item.txt', 'w') as f:\n",
        "  for user in tqdm(users_list):\n",
        "    movie_list = ratings[(ratings.userid == user) & (ratings.movieid_norm > 0) & (ratings.rating >= 3)].movieid_norm.unique()\n",
        "    ui[user] = movie_list\n",
        "    for movie in movie_list:\n",
        "      f.write(f'{user}\\t{movie}\\n')"
      ]
    },
    {
      "cell_type": "code",
      "source": [
        "len(users_list)"
      ],
      "metadata": {
        "colab": {
          "base_uri": "https://localhost:8080/"
        },
        "id": "xdOhZ3IiD1NL",
        "outputId": "10f79d06-0ab3-4833-ecff-bffa0cba7eab"
      },
      "execution_count": 14,
      "outputs": [
        {
          "output_type": "execute_result",
          "data": {
            "text/plain": [
              "6040"
            ]
          },
          "metadata": {},
          "execution_count": 14
        }
      ]
    },
    {
      "cell_type": "code",
      "execution_count": 15,
      "metadata": {
        "id": "aHKVXA3fE5th"
      },
      "outputs": [],
      "source": [
        "ratings['timestamp_norm'] = ratings.timestamp.apply(\n",
        "    lambda x: x - mintime\n",
        ")"
      ]
    },
    {
      "cell_type": "code",
      "execution_count": 16,
      "metadata": {
        "id": "4jYBw-txGKVH"
      },
      "outputs": [],
      "source": [
        "month_time = 30 * 24 * 60 * 60\n",
        "week_time = 7 * 24 * 60 * 60\n",
        "three_day = 3 * 24 * 60 * 60\n",
        "one_day = 24 * 60 * 60\n",
        "h_hour = 8 * 60 * 60\n",
        "a_hour = 60 * 60"
      ]
    },
    {
      "cell_type": "code",
      "execution_count": 17,
      "metadata": {
        "id": "4-2-7PttJ5Bf"
      },
      "outputs": [],
      "source": [
        "ratings['month'] = ratings.timestamp_norm.apply(\n",
        "    lambda x: int(x/month_time) + 1\n",
        ")"
      ]
    },
    {
      "cell_type": "code",
      "execution_count": 18,
      "metadata": {
        "id": "KU6I1aYKZk6S"
      },
      "outputs": [],
      "source": [
        "ratings['week'] = ratings.timestamp_norm.apply(\n",
        "    lambda x: int(x/week_time) + 1\n",
        ")"
      ]
    },
    {
      "cell_type": "code",
      "execution_count": 19,
      "metadata": {
        "id": "6Ov6cNRbeAnA"
      },
      "outputs": [],
      "source": [
        "ratings['three_days'] = ratings.timestamp_norm.apply(\n",
        "    lambda x: int(x/three_day) + 1\n",
        ")"
      ]
    },
    {
      "cell_type": "code",
      "execution_count": 20,
      "metadata": {
        "id": "99-OZputfEte"
      },
      "outputs": [],
      "source": [
        "ratings['one_day'] = ratings.timestamp_norm.apply(\n",
        "    lambda x: int(x/one_day) + 1\n",
        ")"
      ]
    },
    {
      "cell_type": "code",
      "execution_count": 21,
      "metadata": {
        "id": "4HE0EhRBkfDJ"
      },
      "outputs": [],
      "source": [
        "ratings['h_hour'] = ratings.timestamp_norm.apply(\n",
        "    lambda x: int(x/h_hour) + 1\n",
        ")"
      ]
    },
    {
      "cell_type": "code",
      "execution_count": 22,
      "metadata": {
        "id": "qnhGXk0nGlbW"
      },
      "outputs": [],
      "source": [
        "ratings['a_hour'] = ratings.timestamp_norm.apply(\n",
        "    lambda x: int(x/a_hour) + 1\n",
        ")"
      ]
    },
    {
      "cell_type": "code",
      "execution_count": 23,
      "metadata": {
        "colab": {
          "base_uri": "https://localhost:8080/"
        },
        "id": "Okv_xxU8Ksss",
        "outputId": "500b2c8b-e35b-432e-dde7-2e773715f679"
      },
      "outputs": [
        {
          "output_type": "stream",
          "name": "stderr",
          "text": [
            "100%|██████████| 6040/6040 [03:31<00:00, 28.51it/s]\n"
          ]
        }
      ],
      "source": [
        "import random\n",
        "bundle_dict = {}\n",
        "user_bundle = {user: [] for user in users_list}\n",
        "random.seed(2024)\n",
        "\n",
        "with open('bundle_item.txt', 'w') as f2, open('user_bundle_train.txt', 'w') as f3, open('user_bundle_tune.txt', 'w') as f4, open('user_bundle_test.txt', 'w') as f5:\n",
        "  for user in tqdm(users_list):\n",
        "    bundles = []\n",
        "    for one_day in ratings[ratings.userid == user].one_day.unique():\n",
        "      bundle = ratings[(ratings.userid == user) & (ratings.one_day == one_day) & (ratings.movieid_norm > 0) & (ratings.rating >= 3)].movieid_norm.unique()\n",
        "      bundle.sort()\n",
        "      bundle = tuple(bundle)\n",
        "\n",
        "      if len(bundle) > 2:\n",
        "        if bundles not in user_bundle[user]:\n",
        "          user_bundle[user].append(bundles)\n",
        "\n",
        "        if bundle not in bundle_dict:\n",
        "          bundle_dict[bundle] = len(bundle_dict)\n",
        "          for item in bundle:\n",
        "            f2.write(f'{bundle_dict[bundle]}\\t{item}\\n')\n",
        "        bundles.append(bundle)\n",
        "\n",
        "    random.shuffle(bundles)\n",
        "    if len(bundles) >= 1:\n",
        "      for bundle in bundles[:int(0.6*len(bundles))]:\n",
        "        f3.write(f'{user}\\t{bundle_dict[bundle]}\\n')\n",
        "\n",
        "      for bundle in bundles[int(0.6*len(bundles)):int(0.8*len(bundles))]:\n",
        "        f4.write(f'{user}\\t{bundle_dict[bundle]}\\n')\n",
        "\n",
        "      for bundle in bundles[int(0.8*len(bundles)):]:\n",
        "        f5.write(f'{user}\\t{bundle_dict[bundle]}\\n')"
      ]
    },
    {
      "cell_type": "code",
      "execution_count": 24,
      "metadata": {
        "colab": {
          "base_uri": "https://localhost:8080/"
        },
        "id": "4Kz6CXlNa3ez",
        "outputId": "cbf580ff-2e52-4ba3-d6fb-a1e54b563010"
      },
      "outputs": [
        {
          "output_type": "execute_result",
          "data": {
            "text/plain": [
              "13807"
            ]
          },
          "metadata": {},
          "execution_count": 24
        }
      ],
      "source": [
        "len(bundle_dict)"
      ]
    },
    {
      "cell_type": "code",
      "source": [
        "ui_dict = {}\n",
        "for user, item in ui.items():\n",
        "  if len(item) not in ui_dict:\n",
        "    ui_dict[len(item)] = 0\n",
        "  else:\n",
        "    ui_dict[len(item)] += 1\n",
        "\n",
        "plt.figure(figsize=(16, 10))\n",
        "plt.bar(ui_dict.keys(), ui_dict.values())\n",
        "plt.xlabel('Number of movies an user watched')\n",
        "plt.ylabel('Number of users')\n",
        "plt.show()"
      ],
      "metadata": {
        "colab": {
          "base_uri": "https://localhost:8080/",
          "height": 850
        },
        "id": "i6k24qAxEs-0",
        "outputId": "cc4bebe5-c9b7-4d1d-8ebc-e77b7630bfbe"
      },
      "execution_count": 25,
      "outputs": [
        {
          "output_type": "display_data",
          "data": {
            "text/plain": [
              "<Figure size 1600x1000 with 1 Axes>"
            ],
            "image/png": "[encoded data removed]"
          },
          "metadata": {}
        }
      ]
    },
    {
      "cell_type": "code",
      "source": [
        "bi_dict = {}\n",
        "\n",
        "for b, idx in bundle_dict.items():\n",
        "  if len(b) not in bi_dict:\n",
        "    bi_dict[len(b)] = 0\n",
        "  else:\n",
        "    bi_dict[len(b)] += 1\n",
        "\n",
        "plt.figure(figsize=(16, 10))\n",
        "plt.bar(bi_dict.keys(), bi_dict.values())\n",
        "plt.xlabel('Number of movies an user watched')\n",
        "plt.ylabel('Number of users')\n",
        "plt.show()"
      ],
      "metadata": {
        "colab": {
          "base_uri": "https://localhost:8080/",
          "height": 850
        },
        "id": "BVSnjeCqRiWv",
        "outputId": "e2b0b8bd-73c2-4476-f979-7ba456976da8"
      },
      "execution_count": 26,
      "outputs": [
        {
          "output_type": "display_data",
          "data": {
            "text/plain": [
              "<Figure size 1600x1000 with 1 Axes>"
            ],
            "image/png": "[encoded data removed]"
          },
          "metadata": {}
        }
      ]
    },
    {
      "cell_type": "code",
      "source": [
        "ub_dict = {}\n",
        "for b, idx in bundle_dict.items():\n",
        "  for user in users_list:\n",
        "    if b in user_bundle[user]:\n",
        "      ub_dict[bundle_dict[b]] += 1\n",
        "    else:\n",
        "      ub_dict[bundle_dict[b]] = 1"
      ],
      "metadata": {
        "colab": {
          "base_uri": "https://localhost:8080/",
          "height": 211
        },
        "id": "CXeNck6jvBAu",
        "outputId": "566ec732-b63e-483b-916f-5872410efeb8"
      },
      "execution_count": 31,
      "outputs": [
        {
          "output_type": "error",
          "ename": "AttributeError",
          "evalue": "'dict' object has no attribute 'item'",
          "traceback": [
            "\u001b[0;31m---------------------------------------------------------------------------\u001b[0m",
            "\u001b[0;31mAttributeError\u001b[0m                            Traceback (most recent call last)",
            "\u001b[0;32m<ipython-input-31-9c2ac57d35d3>\u001b[0m in \u001b[0;36m<cell line: 9>\u001b[0;34m()\u001b[0m\n\u001b[1;32m      7\u001b[0m \u001b[0;31m#       ub_dict[bundle_dict[b]] = 1\u001b[0m\u001b[0;34m\u001b[0m\u001b[0;34m\u001b[0m\u001b[0m\n\u001b[1;32m      8\u001b[0m \u001b[0;34m\u001b[0m\u001b[0m\n\u001b[0;32m----> 9\u001b[0;31m \u001b[0mbu_dict\u001b[0m \u001b[0;34m=\u001b[0m \u001b[0;34m{\u001b[0m\u001b[0mfreq\u001b[0m\u001b[0;34m:\u001b[0m \u001b[0;36m0\u001b[0m \u001b[0;32mfor\u001b[0m \u001b[0mb\u001b[0m\u001b[0;34m,\u001b[0m \u001b[0mfreq\u001b[0m \u001b[0;32min\u001b[0m \u001b[0mub_dict\u001b[0m\u001b[0;34m.\u001b[0m\u001b[0mitem\u001b[0m\u001b[0;34m(\u001b[0m\u001b[0;34m)\u001b[0m\u001b[0;34m}\u001b[0m\u001b[0;34m\u001b[0m\u001b[0;34m\u001b[0m\u001b[0m\n\u001b[0m\u001b[1;32m     10\u001b[0m \u001b[0;32mfor\u001b[0m \u001b[0mb\u001b[0m\u001b[0;34m,\u001b[0m \u001b[0mfreq\u001b[0m \u001b[0;32min\u001b[0m \u001b[0mub_dict\u001b[0m\u001b[0;34m.\u001b[0m\u001b[0mitems\u001b[0m\u001b[0;34m(\u001b[0m\u001b[0;34m)\u001b[0m\u001b[0;34m:\u001b[0m\u001b[0;34m\u001b[0m\u001b[0;34m\u001b[0m\u001b[0m\n\u001b[1;32m     11\u001b[0m   \u001b[0mbu_dict\u001b[0m\u001b[0;34m[\u001b[0m\u001b[0mfreq\u001b[0m\u001b[0;34m]\u001b[0m \u001b[0;34m+=\u001b[0m \u001b[0;36m1\u001b[0m\u001b[0;34m\u001b[0m\u001b[0;34m\u001b[0m\u001b[0m\n",
            "\u001b[0;31mAttributeError\u001b[0m: 'dict' object has no attribute 'item'"
          ]
        }
      ]
    },
    {
      "cell_type": "code",
      "source": [
        "bu_dict = {freq: 0 for b, freq in ub_dict.items()}\n",
        "for b, freq in ub_dict.items():\n",
        "  bu_dict[freq] += 1\n",
        "\n",
        "plt.figure(figsize=(16, 10))\n",
        "plt.bar(bu_dict.keys(), bu_dict.values())\n",
        "plt.xlabel('Number of bundles an user watched')\n",
        "plt.ylabel('Number of users')\n",
        "plt.show()"
      ],
      "metadata": {
        "colab": {
          "base_uri": "https://localhost:8080/",
          "height": 850
        },
        "id": "UD3bU1kNVGN_",
        "outputId": "64f3785f-384d-4709-9db3-ab50fa787500"
      },
      "execution_count": 35,
      "outputs": [
        {
          "output_type": "display_data",
          "data": {
            "text/plain": [
              "<Figure size 1600x1000 with 1 Axes>"
            ],
            "image/png": "[encoded data removed]"
          },
          "metadata": {}
        }
      ]
    },
    {
      "cell_type": "code",
      "execution_count": null,
      "metadata": {
        "colab": {
          "base_uri": "https://localhost:8080/"
        },
        "id": "Nfj_xNHYNDNS",
        "outputId": "869ae9d3-a369-4907-9f3b-bbe994fc6504"
      },
      "outputs": [
        {
          "output_type": "stream",
          "name": "stderr",
          "text": [
            "100%|██████████| 3883/3883 [00:02<00:00, 1456.79it/s]\n"
          ]
        }
      ],
      "source": [
        "# norm = movies.movieid_norm.unique()\n",
        "# with open('/content/drive/MyDrive/ml-1m/movieid_lookup.txt', 'w') as f:\n",
        "#   for id in tqdm(norm):\n",
        "#     f.write(f'{id}\\t{movies[movies.movieid_norm==id].movieid}\\n')\n"
      ]
    },
    {
      "cell_type": "code",
      "execution_count": null,
      "metadata": {
        "id": "9L3XUypcJG8O"
      },
      "outputs": [],
      "source": []
    }
  ],
  "metadata": {
    "colab": {
      "provenance": []
    },
    "kernelspec": {
      "display_name": "Python 3",
      "name": "python3"
    },
    "language_info": {
      "name": "python"
    }
  },
  "nbformat": 4,
  "nbformat_minor": 0
}